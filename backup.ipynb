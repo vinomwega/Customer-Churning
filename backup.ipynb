{
 "cells": [
  {
   "cell_type": "code",
   "execution_count": null,
   "metadata": {},
   "outputs": [],
   "source": [
    "# Importing the libraries\n",
    "import pandas as pd\n",
    "import matplotlib.pyplot as plt\n",
    "import seaborn as sns\n",
    "\n",
    "#Display all columns\n",
    "pd.set_option('display.max_columns', None)\n",
    "\n",
    "# Import dataset\n",
    "churn_data = pd.read_csv(r\"C:\\Users\\omweg\\Desktop\\Data Analysis\\Project Dataset\\Sets\\Telco Customer Churn Dataset\\telco.csv\")\n",
    "\n",
    "churn_data.head()"
   ]
  },
  {
   "cell_type": "code",
   "execution_count": null,
   "metadata": {},
   "outputs": [],
   "source": [
    "# View the dataframe metrics\n",
    "churn_data.info()"
   ]
  },
  {
   "cell_type": "markdown",
   "metadata": {},
   "source": [
    "# Data cleaning"
   ]
  },
  {
   "cell_type": "code",
   "execution_count": null,
   "metadata": {},
   "outputs": [],
   "source": [
    "# Drop single value columns\n",
    "unique_values = churn_data.nunique() # Identify unique values in each column\n",
    "to_drop = churn_data.loc[:, unique_values == 1].columns\n",
    "churn_df = churn_data.drop(to_drop, axis=1)\n",
    "\n",
    "# Drop duplicated values\n",
    "df_churn = churn_df.drop(['Zip Code', 'Latitude', 'Longitude', 'Churn Label'], axis=1)\n",
    "df_churn1 = churn_df.drop(['Zip Code', 'Latitude', 'Longitude'], axis=1)\n",
    "\n",
    "churn_df.info()\n",
    "\n",
    "df_churn1.info()"
   ]
  },
  {
   "cell_type": "code",
   "execution_count": null,
   "metadata": {},
   "outputs": [],
   "source": [
    "# view new dataset\n",
    "df_churn1.head()"
   ]
  },
  {
   "cell_type": "code",
   "execution_count": null,
   "metadata": {},
   "outputs": [],
   "source": [
    "# Summary\n",
    "df_churn1.describe().T"
   ]
  },
  {
   "cell_type": "code",
   "execution_count": null,
   "metadata": {},
   "outputs": [],
   "source": [
    "# Customer Age distribution\n",
    "plt.figure(figsize=(10, 6))\n",
    "sns.histplot(df_churn1['Age'], bins=30, color='blue', kde=True, edgecolor='black')\n",
    "plt.title('Customer Age Distribution')\n",
    "plt.xlabel('Age')\n",
    "plt.ylabel('Number of Customers')\n",
    "plt.show()"
   ]
  },
  {
   "cell_type": "code",
   "execution_count": null,
   "metadata": {},
   "outputs": [],
   "source": [
    "# Customer Age distribution between churn and non-churn customers\n",
    "plt.figure(figsize=(10, 6))\n",
    "sns.boxplot(x='Churn Label', y='Age', data=df_churn1)\n",
    "plt.title('Customer Age Distribution')\n",
    "plt.xlabel('Churn')\n",
    "plt.ylabel('Age')\n",
    "plt.show()"
   ]
  }
 ],
 "metadata": {
  "kernelspec": {
   "display_name": "Python 3",
   "language": "python",
   "name": "python3"
  },
  "language_info": {
   "codemirror_mode": {
    "name": "ipython",
    "version": 3
   },
   "file_extension": ".py",
   "mimetype": "text/x-python",
   "name": "python",
   "nbconvert_exporter": "python",
   "pygments_lexer": "ipython3",
   "version": "3.11.9"
  }
 },
 "nbformat": 4,
 "nbformat_minor": 2
}
